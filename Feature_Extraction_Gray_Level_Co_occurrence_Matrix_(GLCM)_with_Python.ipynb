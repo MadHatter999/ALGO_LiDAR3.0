{
  "cells": [
    {
      "cell_type": "markdown",
      "metadata": {
        "id": "view-in-github",
        "colab_type": "text"
      },
      "source": [
        "<a href=\"https://colab.research.google.com/github/MadHatter999/ALGO_LiDAR3.0/blob/main/Feature_Extraction_Gray_Level_Co_occurrence_Matrix_(GLCM)_with_Python.ipynb\" target=\"_parent\"><img src=\"https://colab.research.google.com/assets/colab-badge.svg\" alt=\"Open In Colab\"/></a>"
      ]
    },
    {
      "cell_type": "markdown",
      "metadata": {
        "id": "uo8LKkwZVvL5"
      },
      "source": [
        "**1) Nous utiliserons la bibliothèque 'os' pour lire les noms de fichiers des dossiers et la bibliothèque 'cv2' (OpenCV) pour faire le traitement d'image**"
      ]
    },
    {
      "cell_type": "code",
      "execution_count": 10,
      "metadata": {
        "colab": {
          "base_uri": "https://localhost:8080/"
        },
        "id": "0gb-kmOi8Xcd",
        "outputId": "78bd0bcf-91ab-4436-dac6-2fcc7802170f"
      },
      "outputs": [
        {
          "output_type": "stream",
          "name": "stdout",
          "text": [
            "Drive already mounted at /gdrive; to attempt to forcibly remount, call drive.mount(\"/gdrive\", force_remount=True).\n",
            "/gdrive\n"
          ]
        }
      ],
      "source": [
        "from google.colab import drive\n",
        "drive.mount('/gdrive')\n",
        "%cd /gdrive"
      ]
    },
    {
      "cell_type": "code",
      "source": [
        "from PIL import Image , ImageDraw"
      ],
      "metadata": {
        "id": "RTMblyIDB7xV"
      },
      "execution_count": null,
      "outputs": []
    },
    {
      "cell_type": "code",
      "source": [
        "def NoiseGenerator(height, width,number):#generer une image bruit\n",
        "    for i in range (number):\n",
        "        array = np.random.randint(255, size=(height, width),dtype=np.uint8)\n",
        "        image = Image.fromarray(array)\n",
        "        #image.show()\n",
        "        nom=str(i)+\".png\" \n",
        "        image.save(\"/noise\"+nom)"
      ],
      "metadata": {
        "id": "Ax4v0fR9CVDz"
      },
      "execution_count": 11,
      "outputs": []
    },
    {
      "cell_type": "code",
      "source": [
        "def decouper(image):#corp l'images en des morceaux 50*50\n",
        "    width, height = image.size\n",
        "    if height%50==0:\n",
        "        i_max=height//50\n",
        "    else:\n",
        "        i_max=height//50+1\n",
        "\n",
        "    if width%50==0:\n",
        "        j_max=width//50\n",
        "    else:\n",
        "        j_max=width//50+1\n",
        "\n",
        "#im1 = im.crop((left, top, right, bottom)) \n",
        "    for i in range(i_max):\n",
        "        for j in range(j_max):\n",
        "            if i==i_max:\n",
        "                if j==j_max:\n",
        "                    croped= image.crop((50*j+1, 50*i+1, width,height)) \n",
        "                else:\n",
        "                    croped= image.crop((50*j+1, 50*i+1,50*(j+1)+1 ,height)) \n",
        "            else:\n",
        "                if j==j_max:\n",
        "                    croped= image.crop((50*j+1, 50*i+1, width,50*(i+1)+1)) \n",
        "                else:\n",
        "                    croped= image.crop((50*j+1, 50*i+1,50*(j+1)+1 ,50*(i+1)+1)) \n",
        "            nom=str(j+1)+\".\"+str(i+1)+\".png\"\n",
        "            croped.save(\"images de bruit/\"+nom)"
      ],
      "metadata": {
        "id": "HzMhsOKAC1np"
      },
      "execution_count": 12,
      "outputs": []
    },
    {
      "cell_type": "code",
      "source": [
        "def ecrire(text):#retourner une image contenant la valeur d'un des indices\n",
        "    img = Image.new('RGB', (50,50), color = (255,255,255))\n",
        "    d = ImageDraw.Draw(img)\n",
        "    d.text((1,20), text, fill=(0,0,0))\n",
        "    return(img)"
      ],
      "metadata": {
        "id": "RNsFGwy-DJB7"
      },
      "execution_count": 13,
      "outputs": []
    },
    {
      "cell_type": "code",
      "source": [
        "def get_concat_h(im1, im2):#concatener 2 images horizontalement\n",
        "    dst = Image.new('RGB', (im1.width + im2.width, im1.height))\n",
        "    dst.paste(im1, (0, 0))\n",
        "    dst.paste(im2, (im1.width, 0))\n",
        "    return dst\n",
        "\n",
        "def get_concat_v(im1, im2):#concatener 2 images verticalement\n",
        "    dst = Image.new('RGB', (im1.width, im1.height + im2.height))\n",
        "    dst.paste(im1, (0, 0))\n",
        "    dst.paste(im2, (0, im1.height))\n",
        "    return dst\n"
      ],
      "metadata": {
        "id": "sC7c8GZ5DNaI"
      },
      "execution_count": 14,
      "outputs": []
    },
    {
      "cell_type": "code",
      "execution_count": 9,
      "metadata": {
        "colab": {
          "base_uri": "https://localhost:8080/",
          "height": 234
        },
        "id": "lxO4GIUtCaBc",
        "outputId": "cf4cb0a8-9a9e-453b-d247-14e7b20caf5b"
      },
      "outputs": [
        {
          "output_type": "error",
          "ename": "NotADirectoryError",
          "evalue": "ignored",
          "traceback": [
            "\u001b[0;31m---------------------------------------------------------------------------\u001b[0m",
            "\u001b[0;31mNotADirectoryError\u001b[0m                        Traceback (most recent call last)",
            "\u001b[0;32m<ipython-input-9-604c32a54b26>\u001b[0m in \u001b[0;36m<module>\u001b[0;34m()\u001b[0m\n\u001b[1;32m     35\u001b[0m \u001b[0;32mfor\u001b[0m \u001b[0mfolder\u001b[0m \u001b[0;32min\u001b[0m \u001b[0mos\u001b[0m\u001b[0;34m.\u001b[0m\u001b[0mlistdir\u001b[0m\u001b[0;34m(\u001b[0m\u001b[0mdataset_dir\u001b[0m\u001b[0;34m)\u001b[0m\u001b[0;34m:\u001b[0m\u001b[0;34m\u001b[0m\u001b[0;34m\u001b[0m\u001b[0m\n\u001b[1;32m     36\u001b[0m     \u001b[0;32mfor\u001b[0m \u001b[0msub_folder\u001b[0m \u001b[0;32min\u001b[0m \u001b[0mos\u001b[0m\u001b[0;34m.\u001b[0m\u001b[0mlistdir\u001b[0m\u001b[0;34m(\u001b[0m\u001b[0mos\u001b[0m\u001b[0;34m.\u001b[0m\u001b[0mpath\u001b[0m\u001b[0;34m.\u001b[0m\u001b[0mjoin\u001b[0m\u001b[0;34m(\u001b[0m\u001b[0mdataset_dir\u001b[0m\u001b[0;34m,\u001b[0m \u001b[0mfolder\u001b[0m\u001b[0;34m)\u001b[0m\u001b[0;34m)\u001b[0m\u001b[0;34m:\u001b[0m\u001b[0;34m\u001b[0m\u001b[0;34m\u001b[0m\u001b[0m\n\u001b[0;32m---> 37\u001b[0;31m         \u001b[0msub_folder_files\u001b[0m \u001b[0;34m=\u001b[0m \u001b[0mos\u001b[0m\u001b[0;34m.\u001b[0m\u001b[0mlistdir\u001b[0m\u001b[0;34m(\u001b[0m\u001b[0mos\u001b[0m\u001b[0;34m.\u001b[0m\u001b[0mpath\u001b[0m\u001b[0;34m.\u001b[0m\u001b[0mjoin\u001b[0m\u001b[0;34m(\u001b[0m\u001b[0mdataset_dir\u001b[0m\u001b[0;34m,\u001b[0m \u001b[0mfolder\u001b[0m\u001b[0;34m,\u001b[0m \u001b[0msub_folder\u001b[0m\u001b[0;34m)\u001b[0m\u001b[0;34m)\u001b[0m\u001b[0;34m\u001b[0m\u001b[0;34m\u001b[0m\u001b[0m\n\u001b[0m\u001b[1;32m     38\u001b[0m         \u001b[0mlen_sub_folder\u001b[0m \u001b[0;34m=\u001b[0m \u001b[0mlen\u001b[0m\u001b[0;34m(\u001b[0m\u001b[0msub_folder_files\u001b[0m\u001b[0;34m)\u001b[0m \u001b[0;34m-\u001b[0m \u001b[0;36m1\u001b[0m\u001b[0;34m\u001b[0m\u001b[0;34m\u001b[0m\u001b[0m\n\u001b[1;32m     39\u001b[0m         \u001b[0;32mfor\u001b[0m \u001b[0mi\u001b[0m\u001b[0;34m,\u001b[0m \u001b[0mfilename\u001b[0m \u001b[0;32min\u001b[0m \u001b[0menumerate\u001b[0m\u001b[0;34m(\u001b[0m\u001b[0msub_folder_files\u001b[0m\u001b[0;34m)\u001b[0m\u001b[0;34m:\u001b[0m\u001b[0;34m\u001b[0m\u001b[0;34m\u001b[0m\u001b[0m\n",
            "\u001b[0;31mNotADirectoryError\u001b[0m: [Errno 20] Not a directory: '/gdrive/MyDrive/Feature Extraction : Gray Level Co-occurrence Matrix (GLCM) with Python'"
          ]
        }
      ],
      "source": [
        "import numpy as np \n",
        "import cv2 \n",
        "import os\n",
        "import re\n",
        "\n",
        "# -------------------- Utility function ------------------------\n",
        "def normalize_label(str_):\n",
        "    str_ = str_.replace(\" \", \"\")\n",
        "    str_ = str_.translate(str_.maketrans(\"\",\"\", \"()\"))\n",
        "    str_ = str_.split(\"_\")\n",
        "    return ''.join(str_[:2])\n",
        "\n",
        "def normalize_desc(folder, sub_folder):\n",
        "    text = folder + \" - \" + sub_folder \n",
        "    text = re.sub(r'\\d+', '', text)\n",
        "    text = text.replace(\".\", \"\")\n",
        "    text = text.strip()\n",
        "    return text\n",
        "\n",
        "def print_progress(val, val_len, folder, sub_folder, filename, bar_size=10):\n",
        "    progr = \"#\"*round((val)*bar_size/val_len) + \" \"*round((val_len - (val))*bar_size/val_len)\n",
        "    if val == 0:\n",
        "        print(\"\", end = \"\\n\")\n",
        "    else:\n",
        "        print(\"[%s] folder : %s/%s/ ----> file : %s\" % (progr, folder, sub_folder, filename), end=\"\\r\")\n",
        "        \n",
        "\n",
        "# -------------------- Load Dataset ------------------------\n",
        " \n",
        "dataset_dir = '/gdrive'\n",
        "\n",
        "imgs = [] #list image matrix \n",
        "labels = []\n",
        "descs = []\n",
        "for folder in os.listdir(dataset_dir):\n",
        "    for sub_folder in os.listdir(os.path.join(dataset_dir, folder)):\n",
        "        sub_folder_files = os.listdir(os.path.join(dataset_dir, folder, sub_folder))\n",
        "        len_sub_folder = len(sub_folder_files) - 1\n",
        "        for i, filename in enumerate(sub_folder_files):\n",
        "            img = cv2.imread(os.path.join(dataset_dir, folder, sub_folder, filename))\n",
        "            \n",
        "            gray = cv2.cvtColor(img, cv2.COLOR_BGR2GRAY)\n",
        "            \n",
        "            h, w = gray.shape\n",
        "            ymin, ymax, xmin, xmax = h//3, h*2//3, w//3, w*2//3\n",
        "            crop = gray[ymin:ymax, xmin:xmax]\n",
        "            \n",
        "            resize = cv2.resize(crop, (0,0), fx=0.5, fy=0.5)\n",
        "            \n",
        "            imgs.append(resize)\n",
        "            labels.append(normalize_label(os.path.splitext(filename)[0]))\n",
        "            descs.append(normalize_desc(folder, sub_folder))\n",
        "            \n",
        "            print_progress(i, len_sub_folder, folder, sub_folder, filename)"
      ]
    },
    {
      "cell_type": "markdown",
      "metadata": {
        "id": "IGruSE15WX1J"
      },
      "source": [
        "**2) L'ensemble de données d'images de feuilles sera stocké dans la liste 'imgs' et les noms de feuilles seront stockés dans la liste 'labels'. Nous pouvons prévisualiser l'une des images de la manière suivante**"
      ]
    },
    {
      "cell_type": "code",
      "execution_count": null,
      "metadata": {
        "colab": {
          "base_uri": "https://localhost:8080/",
          "height": 95
        },
        "id": "kPOvWvWHR2Yh",
        "outputId": "5256ef5b-b2fb-4a2c-c3cd-401ef0afaefc"
      },
      "outputs": [
        {
          "data": {
            "image/png": "[encoded data removed]",
            "text/plain": [
              "<PIL.Image.Image image mode=L size=118x78 at 0x7FCB9292D050>"
            ]
          },
          "metadata": {},
          "output_type": "display_data"
        }
      ],
      "source": [
        "from google.colab.patches import cv2_imshow\n",
        "cv2_imshow(imgs[0])"
      ]
    },
    {
      "cell_type": "markdown",
      "metadata": {
        "id": "WlBgWxQ_WmTR"
      },
      "source": [
        "**3) Ensuite, nous pouvons trouver la matrice GLCM et la métrique de texture globale de l'image de la feuille en utilisant les fonctions greycomatrix() et greycoprops() dans la bibliothèque Scikit-Image.**"
      ]
    },
    {
      "cell_type": "code",
      "execution_count": null,
      "metadata": {
        "id": "5FTp6wFpGrSs"
      },
      "outputs": [],
      "source": [
        "from skimage.feature import greycomatrix, greycoprops\n",
        "\n",
        "# ----------------- calculate greycomatrix() & greycoprops() for angle 0, 45, 90, 135 ----------------------------------\n",
        "def calc_glcm_all_agls(img, label, props, dists=[5], agls=[0, np.pi/4, np.pi/2, 3*np.pi/4], lvl=256, sym=True, norm=True):\n",
        "    \n",
        "    glcm = greycomatrix(img, \n",
        "                        distances=dists, \n",
        "                        angles=agls, \n",
        "                        levels=lvl,\n",
        "                        symmetric=sym, \n",
        "                        normed=norm)\n",
        "    feature = []\n",
        "    glcm_props = [propery for name in props for propery in greycoprops(glcm, name)[0]]\n",
        "    for item in glcm_props:\n",
        "            feature.append(item)\n",
        "    feature.append(label) \n",
        "    \n",
        "    return feature\n",
        "\n",
        "\n",
        "# ----------------- call calc_glcm_all_agls() for all properties ----------------------------------\n",
        "properties = ['dissimilarity', 'correlation', 'homogeneity', 'contrast', 'ASM', 'energy']\n",
        "\n",
        "glcm_all_agls = []\n",
        "for img, label in zip(imgs, labels): \n",
        "    glcm_all_agls.append(\n",
        "            calc_glcm_all_agls(img, \n",
        "                                label, \n",
        "                                props=properties)\n",
        "                            )\n",
        " \n",
        "columns = []\n",
        "angles = ['0', '45', '90','135']\n",
        "for name in properties :\n",
        "    for ang in angles:\n",
        "        columns.append(name + \"_\" + ang)\n",
        "        \n",
        "columns.append(\"label\")"
      ]
    },
    {
      "cell_type": "markdown",
      "metadata": {
        "id": "VFYtEXJGW2B-"
      },
      "source": [
        "**4) Ensuite, nous changeons le format de données glcm_features de liste en Dataframe à l'aide de la bibliothèque pandas**"
      ]
    },
    {
      "cell_type": "code",
      "execution_count": null,
      "metadata": {
        "colab": {
          "base_uri": "https://localhost:8080/",
          "height": 331
        },
        "id": "g70Kv8FTGW1l",
        "outputId": "57e8438b-1b7b-4b90-c59c-a54cfbf85755"
      },
      "outputs": [
        {
          "data": {
            "text/html": [
              "\n",
              "  <div id=\"df-cb635a76-e559-4b12-ba6f-212678ec78fa\">\n",
              "    <div class=\"colab-df-container\">\n",
              "      <div>\n",
              "<style scoped>\n",
              "    .dataframe tbody tr th:only-of-type {\n",
              "        vertical-align: middle;\n",
              "    }\n",
              "\n",
              "    .dataframe tbody tr th {\n",
              "        vertical-align: top;\n",
              "    }\n",
              "\n",
              "    .dataframe thead th {\n",
              "        text-align: right;\n",
              "    }\n",
              "</style>\n",
              "<table border=\"1\" class=\"dataframe\">\n",
              "  <thead>\n",
              "    <tr style=\"text-align: right;\">\n",
              "      <th></th>\n",
              "      <th>dissimilarity_0</th>\n",
              "      <th>dissimilarity_45</th>\n",
              "      <th>dissimilarity_90</th>\n",
              "      <th>dissimilarity_135</th>\n",
              "      <th>correlation_0</th>\n",
              "      <th>correlation_45</th>\n",
              "      <th>correlation_90</th>\n",
              "      <th>correlation_135</th>\n",
              "      <th>homogeneity_0</th>\n",
              "      <th>homogeneity_45</th>\n",
              "      <th>...</th>\n",
              "      <th>contrast_135</th>\n",
              "      <th>ASM_0</th>\n",
              "      <th>ASM_45</th>\n",
              "      <th>ASM_90</th>\n",
              "      <th>ASM_135</th>\n",
              "      <th>energy_0</th>\n",
              "      <th>energy_45</th>\n",
              "      <th>energy_90</th>\n",
              "      <th>energy_135</th>\n",
              "      <th>label</th>\n",
              "    </tr>\n",
              "  </thead>\n",
              "  <tbody>\n",
              "    <tr>\n",
              "      <th>3</th>\n",
              "      <td>0.000000</td>\n",
              "      <td>0.000000</td>\n",
              "      <td>0.000000</td>\n",
              "      <td>0.000000</td>\n",
              "      <td>1.000000</td>\n",
              "      <td>1.000000</td>\n",
              "      <td>1.000000</td>\n",
              "      <td>1.000000</td>\n",
              "      <td>0.000000</td>\n",
              "      <td>0.000000</td>\n",
              "      <td>...</td>\n",
              "      <td>0.000000</td>\n",
              "      <td>0.000000</td>\n",
              "      <td>0.000000</td>\n",
              "      <td>0.000000</td>\n",
              "      <td>0.000000</td>\n",
              "      <td>0.000000</td>\n",
              "      <td>0.000000</td>\n",
              "      <td>0.000000</td>\n",
              "      <td>0.000000</td>\n",
              "      <td>1</td>\n",
              "    </tr>\n",
              "    <tr>\n",
              "      <th>2</th>\n",
              "      <td>40.761289</td>\n",
              "      <td>40.838905</td>\n",
              "      <td>40.925354</td>\n",
              "      <td>41.015884</td>\n",
              "      <td>0.015873</td>\n",
              "      <td>0.011329</td>\n",
              "      <td>0.020960</td>\n",
              "      <td>0.000029</td>\n",
              "      <td>0.025894</td>\n",
              "      <td>0.025267</td>\n",
              "      <td>...</td>\n",
              "      <td>2632.280465</td>\n",
              "      <td>0.000116</td>\n",
              "      <td>0.000121</td>\n",
              "      <td>0.000118</td>\n",
              "      <td>0.000118</td>\n",
              "      <td>0.010777</td>\n",
              "      <td>0.010995</td>\n",
              "      <td>0.010841</td>\n",
              "      <td>0.010876</td>\n",
              "      <td>11</td>\n",
              "    </tr>\n",
              "    <tr>\n",
              "      <th>5</th>\n",
              "      <td>39.125000</td>\n",
              "      <td>33.375000</td>\n",
              "      <td>50.875000</td>\n",
              "      <td>37.750000</td>\n",
              "      <td>0.175071</td>\n",
              "      <td>0.041717</td>\n",
              "      <td>-0.181790</td>\n",
              "      <td>0.250414</td>\n",
              "      <td>0.042368</td>\n",
              "      <td>0.101519</td>\n",
              "      <td>...</td>\n",
              "      <td>2558.500000</td>\n",
              "      <td>0.020833</td>\n",
              "      <td>0.033203</td>\n",
              "      <td>0.020833</td>\n",
              "      <td>0.031250</td>\n",
              "      <td>0.144338</td>\n",
              "      <td>0.182217</td>\n",
              "      <td>0.144338</td>\n",
              "      <td>0.176777</td>\n",
              "      <td>21</td>\n",
              "    </tr>\n",
              "    <tr>\n",
              "      <th>0</th>\n",
              "      <td>13.498298</td>\n",
              "      <td>16.502726</td>\n",
              "      <td>15.354539</td>\n",
              "      <td>15.866169</td>\n",
              "      <td>0.379110</td>\n",
              "      <td>0.114437</td>\n",
              "      <td>0.228608</td>\n",
              "      <td>0.208673</td>\n",
              "      <td>0.123990</td>\n",
              "      <td>0.104008</td>\n",
              "      <td>...</td>\n",
              "      <td>808.188122</td>\n",
              "      <td>0.001001</td>\n",
              "      <td>0.000911</td>\n",
              "      <td>0.000935</td>\n",
              "      <td>0.000933</td>\n",
              "      <td>0.031632</td>\n",
              "      <td>0.030189</td>\n",
              "      <td>0.030570</td>\n",
              "      <td>0.030540</td>\n",
              "      <td>51</td>\n",
              "    </tr>\n",
              "    <tr>\n",
              "      <th>1</th>\n",
              "      <td>6.441003</td>\n",
              "      <td>8.246918</td>\n",
              "      <td>8.565823</td>\n",
              "      <td>8.016596</td>\n",
              "      <td>0.904933</td>\n",
              "      <td>0.861387</td>\n",
              "      <td>0.866758</td>\n",
              "      <td>0.869166</td>\n",
              "      <td>0.252446</td>\n",
              "      <td>0.225886</td>\n",
              "      <td>...</td>\n",
              "      <td>289.689663</td>\n",
              "      <td>0.001989</td>\n",
              "      <td>0.001547</td>\n",
              "      <td>0.001389</td>\n",
              "      <td>0.001604</td>\n",
              "      <td>0.044593</td>\n",
              "      <td>0.039327</td>\n",
              "      <td>0.037265</td>\n",
              "      <td>0.040048</td>\n",
              "      <td>52</td>\n",
              "    </tr>\n",
              "    <tr>\n",
              "      <th>4</th>\n",
              "      <td>5.583333</td>\n",
              "      <td>9.875000</td>\n",
              "      <td>9.500000</td>\n",
              "      <td>7.375000</td>\n",
              "      <td>0.396437</td>\n",
              "      <td>-0.222699</td>\n",
              "      <td>-0.283472</td>\n",
              "      <td>0.145858</td>\n",
              "      <td>0.196180</td>\n",
              "      <td>0.072484</td>\n",
              "      <td>...</td>\n",
              "      <td>84.500000</td>\n",
              "      <td>0.023437</td>\n",
              "      <td>0.031250</td>\n",
              "      <td>0.020833</td>\n",
              "      <td>0.037109</td>\n",
              "      <td>0.153093</td>\n",
              "      <td>0.176777</td>\n",
              "      <td>0.144338</td>\n",
              "      <td>0.192638</td>\n",
              "      <td>55</td>\n",
              "    </tr>\n",
              "  </tbody>\n",
              "</table>\n",
              "<p>6 rows × 25 columns</p>\n",
              "</div>\n",
              "      <button class=\"colab-df-convert\" onclick=\"convertToInteractive('df-cb635a76-e559-4b12-ba6f-212678ec78fa')\"\n",
              "              title=\"Convert this dataframe to an interactive table.\"\n",
              "              style=\"display:none;\">\n",
              "        \n",
              "  <svg xmlns=\"http://www.w3.org/2000/svg\" height=\"24px\"viewBox=\"0 0 24 24\"\n",
              "       width=\"24px\">\n",
              "    <path d=\"M0 0h24v24H0V0z\" fill=\"none\"/>\n",
              "    <path d=\"M18.56 5.44l.94 2.06.94-2.06 2.06-.94-2.06-.94-.94-2.06-.94 2.06-2.06.94zm-11 1L8.5 8.5l.94-2.06 2.06-.94-2.06-.94L8.5 2.5l-.94 2.06-2.06.94zm10 10l.94 2.06.94-2.06 2.06-.94-2.06-.94-.94-2.06-.94 2.06-2.06.94z\"/><path d=\"M17.41 7.96l-1.37-1.37c-.4-.4-.92-.59-1.43-.59-.52 0-1.04.2-1.43.59L10.3 9.45l-7.72 7.72c-.78.78-.78 2.05 0 2.83L4 21.41c.39.39.9.59 1.41.59.51 0 1.02-.2 1.41-.59l7.78-7.78 2.81-2.81c.8-.78.8-2.07 0-2.86zM5.41 20L4 18.59l7.72-7.72 1.47 1.35L5.41 20z\"/>\n",
              "  </svg>\n",
              "      </button>\n",
              "      \n",
              "  <style>\n",
              "    .colab-df-container {\n",
              "      display:flex;\n",
              "      flex-wrap:wrap;\n",
              "      gap: 12px;\n",
              "    }\n",
              "\n",
              "    .colab-df-convert {\n",
              "      background-color: #E8F0FE;\n",
              "      border: none;\n",
              "      border-radius: 50%;\n",
              "      cursor: pointer;\n",
              "      display: none;\n",
              "      fill: #1967D2;\n",
              "      height: 32px;\n",
              "      padding: 0 0 0 0;\n",
              "      width: 32px;\n",
              "    }\n",
              "\n",
              "    .colab-df-convert:hover {\n",
              "      background-color: #E2EBFA;\n",
              "      box-shadow: 0px 1px 2px rgba(60, 64, 67, 0.3), 0px 1px 3px 1px rgba(60, 64, 67, 0.15);\n",
              "      fill: #174EA6;\n",
              "    }\n",
              "\n",
              "    [theme=dark] .colab-df-convert {\n",
              "      background-color: #3B4455;\n",
              "      fill: #D2E3FC;\n",
              "    }\n",
              "\n",
              "    [theme=dark] .colab-df-convert:hover {\n",
              "      background-color: #434B5C;\n",
              "      box-shadow: 0px 1px 3px 1px rgba(0, 0, 0, 0.15);\n",
              "      filter: drop-shadow(0px 1px 2px rgba(0, 0, 0, 0.3));\n",
              "      fill: #FFFFFF;\n",
              "    }\n",
              "  </style>\n",
              "\n",
              "      <script>\n",
              "        const buttonEl =\n",
              "          document.querySelector('#df-cb635a76-e559-4b12-ba6f-212678ec78fa button.colab-df-convert');\n",
              "        buttonEl.style.display =\n",
              "          google.colab.kernel.accessAllowed ? 'block' : 'none';\n",
              "\n",
              "        async function convertToInteractive(key) {\n",
              "          const element = document.querySelector('#df-cb635a76-e559-4b12-ba6f-212678ec78fa');\n",
              "          const dataTable =\n",
              "            await google.colab.kernel.invokeFunction('convertToInteractive',\n",
              "                                                     [key], {});\n",
              "          if (!dataTable) return;\n",
              "\n",
              "          const docLinkHtml = 'Like what you see? Visit the ' +\n",
              "            '<a target=\"_blank\" href=https://colab.research.google.com/notebooks/data_table.ipynb>data table notebook</a>'\n",
              "            + ' to learn more about interactive tables.';\n",
              "          element.innerHTML = '';\n",
              "          dataTable['output_type'] = 'display_data';\n",
              "          await google.colab.output.renderOutput(dataTable, element);\n",
              "          const docLink = document.createElement('div');\n",
              "          docLink.innerHTML = docLinkHtml;\n",
              "          element.appendChild(docLink);\n",
              "        }\n",
              "      </script>\n",
              "    </div>\n",
              "  </div>\n",
              "  "
            ],
            "text/plain": [
              "   dissimilarity_0  dissimilarity_45  dissimilarity_90  dissimilarity_135  \\\n",
              "3         0.000000          0.000000          0.000000           0.000000   \n",
              "2        40.761289         40.838905         40.925354          41.015884   \n",
              "5        39.125000         33.375000         50.875000          37.750000   \n",
              "0        13.498298         16.502726         15.354539          15.866169   \n",
              "1         6.441003          8.246918          8.565823           8.016596   \n",
              "4         5.583333          9.875000          9.500000           7.375000   \n",
              "\n",
              "   correlation_0  correlation_45  correlation_90  correlation_135  \\\n",
              "3       1.000000        1.000000        1.000000         1.000000   \n",
              "2       0.015873        0.011329        0.020960         0.000029   \n",
              "5       0.175071        0.041717       -0.181790         0.250414   \n",
              "0       0.379110        0.114437        0.228608         0.208673   \n",
              "1       0.904933        0.861387        0.866758         0.869166   \n",
              "4       0.396437       -0.222699       -0.283472         0.145858   \n",
              "\n",
              "   homogeneity_0  homogeneity_45  ...  contrast_135     ASM_0    ASM_45  \\\n",
              "3       0.000000        0.000000  ...      0.000000  0.000000  0.000000   \n",
              "2       0.025894        0.025267  ...   2632.280465  0.000116  0.000121   \n",
              "5       0.042368        0.101519  ...   2558.500000  0.020833  0.033203   \n",
              "0       0.123990        0.104008  ...    808.188122  0.001001  0.000911   \n",
              "1       0.252446        0.225886  ...    289.689663  0.001989  0.001547   \n",
              "4       0.196180        0.072484  ...     84.500000  0.023437  0.031250   \n",
              "\n",
              "     ASM_90   ASM_135  energy_0  energy_45  energy_90  energy_135  label  \n",
              "3  0.000000  0.000000  0.000000   0.000000   0.000000    0.000000      1  \n",
              "2  0.000118  0.000118  0.010777   0.010995   0.010841    0.010876     11  \n",
              "5  0.020833  0.031250  0.144338   0.182217   0.144338    0.176777     21  \n",
              "0  0.000935  0.000933  0.031632   0.030189   0.030570    0.030540     51  \n",
              "1  0.001389  0.001604  0.044593   0.039327   0.037265    0.040048     52  \n",
              "4  0.020833  0.037109  0.153093   0.176777   0.144338    0.192638     55  \n",
              "\n",
              "[6 rows x 25 columns]"
            ]
          },
          "execution_count": 41,
          "metadata": {},
          "output_type": "execute_result"
        }
      ],
      "source": [
        "import pandas as pd \n",
        "\n",
        "# Create the pandas DataFrame for GLCM features data\n",
        "glcm_df = pd.DataFrame(glcm_all_agls, \n",
        "                      columns = columns)\n",
        "glcm_df['label'] = glcm_df['label'].astype(int)\n",
        "sorted_df = glcm_df.sort_values(by=['label'], ascending=True)\n",
        "sorted_df"
      ]
    },
    {
      "cell_type": "code",
      "execution_count": null,
      "metadata": {
        "id": "qVhk0lNg2bnl"
      },
      "outputs": [],
      "source": [
        ""
      ]
    }
  ],
  "metadata": {
    "colab": {
      "collapsed_sections": [],
      "name": "Feature Extraction : Gray Level Co-occurrence Matrix (GLCM) with Python",
      "provenance": [],
      "include_colab_link": true
    },
    "kernelspec": {
      "display_name": "Python 3",
      "name": "python3"
    }
  },
  "nbformat": 4,
  "nbformat_minor": 0
}