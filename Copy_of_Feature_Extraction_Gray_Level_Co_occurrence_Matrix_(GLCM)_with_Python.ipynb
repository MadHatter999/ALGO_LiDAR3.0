{
  "cells": [
    {
      "cell_type": "markdown",
      "metadata": {
        "id": "view-in-github",
        "colab_type": "text"
      },
      "source": [
        "<a href=\"https://colab.research.google.com/github/MadHatter999/ALGO_LiDAR3.0/blob/main/Copy_of_Feature_Extraction_Gray_Level_Co_occurrence_Matrix_(GLCM)_with_Python.ipynb\" target=\"_parent\"><img src=\"https://colab.research.google.com/assets/colab-badge.svg\" alt=\"Open In Colab\"/></a>"
      ]
    },
    {
      "cell_type": "markdown",
      "metadata": {
        "id": "uo8LKkwZVvL5"
      },
      "source": [
        "**1) Nous utiliserons la bibliothèque 'os' pour lire les noms de fichiers des dossiers et la bibliothèque 'cv2' (OpenCV) pour faire le traitement d'image**"
      ]
    },
    {
      "cell_type": "code",
      "execution_count": null,
      "metadata": {
        "colab": {
          "base_uri": "https://localhost:8080/"
        },
        "id": "0gb-kmOi8Xcd",
        "outputId": "e5bdaafd-bc3e-4d43-8d1a-35687984d029"
      },
      "outputs": [
        {
          "output_type": "stream",
          "name": "stdout",
          "text": [
            "Drive already mounted at /gdrive; to attempt to forcibly remount, call drive.mount(\"/gdrive\", force_remount=True).\n",
            "/gdrive\n"
          ]
        }
      ],
      "source": [
        "from google.colab import drive\n",
        "drive.mount('/gdrive')\n",
        "%cd /gdrive"
      ]
    },
    {
      "cell_type": "code",
      "source": [
        "from PIL import Image , ImageDraw"
      ],
      "metadata": {
        "id": "RTMblyIDB7xV"
      },
      "execution_count": null,
      "outputs": []
    },
    {
      "cell_type": "code",
      "source": [
        "def NoiseGenerator(height, width,number):#generer une image bruit\n",
        "    for i in range (number):\n",
        "        array = np.random.randint(255, size=(height, width),dtype=np.uint8)\n",
        "        image = Image.fromarray(array)\n",
        "        #image.show()\n",
        "        nom=str(i)+\".png\" \n",
        "        image.save(\"/noise\"+nom)"
      ],
      "metadata": {
        "id": "Ax4v0fR9CVDz"
      },
      "execution_count": null,
      "outputs": []
    },
    {
      "cell_type": "code",
      "source": [
        "def decouper(image):#corp l'images en des morceaux 50*50\n",
        "    width, height = image.size\n",
        "    if height%50==0:\n",
        "        i_max=height//50\n",
        "    else:\n",
        "        i_max=height//50+1\n",
        "\n",
        "    if width%50==0:\n",
        "        j_max=width//50\n",
        "    else:\n",
        "        j_max=width//50+1\n",
        "\n",
        "#im1 = im.crop((left, top, right, bottom)) \n",
        "    for i in range(i_max):\n",
        "        for j in range(j_max):\n",
        "            if i==i_max:\n",
        "                if j==j_max:\n",
        "                    croped= image.crop((50*j+1, 50*i+1, width,height)) \n",
        "                else:\n",
        "                    croped= image.crop((50*j+1, 50*i+1,50*(j+1)+1 ,height)) \n",
        "            else:\n",
        "                if j==j_max:\n",
        "                    croped= image.crop((50*j+1, 50*i+1, width,50*(i+1)+1)) \n",
        "                else:\n",
        "                    croped= image.crop((50*j+1, 50*i+1,50*(j+1)+1 ,50*(i+1)+1)) \n",
        "            nom=chr(ord('a')+j)+\".\"+chr(ord('a')+i)+\".png\"\n",
        "            croped.save(\"MyDrive/decoupage/\"+nom)"
      ],
      "metadata": {
        "id": "HzMhsOKAC1np"
      },
      "execution_count": null,
      "outputs": []
    },
    {
      "cell_type": "code",
      "source": [
        "def ecrire(text):#retourner une image contenant la valeur d'un des indices\n",
        "    img = Image.new('RGB', (48,48), color = (255,255,255))\n",
        "    d = ImageDraw.Draw(img)\n",
        "    d.text((1,20), text, fill=(0,0,0))\n",
        "\n",
        "    im_size = img.size\n",
        "    Add_Padd = 1\n",
        "    new_im = Image.new('RGB', (im_size[0]+2*Add_Padd,im_size[1]+2*Add_Padd)) # black\n",
        "    new_im.paste(img, (Add_Padd,Add_Padd))\n",
        "    return(new_im)\n"
      ],
      "metadata": {
        "id": "RNsFGwy-DJB7"
      },
      "execution_count": null,
      "outputs": []
    },
    {
      "cell_type": "code",
      "source": [
        "%cd ..\n",
        "image=Image.open('home/dice.png')\n",
        "%cd /gdrive\n",
        "decouper(image)"
      ],
      "metadata": {
        "colab": {
          "base_uri": "https://localhost:8080/"
        },
        "id": "buj0JY40HmUZ",
        "outputId": "4bea2a2c-7c5c-407b-ea5e-bf72dd6811fb"
      },
      "execution_count": null,
      "outputs": [
        {
          "output_type": "stream",
          "name": "stdout",
          "text": [
            "/\n",
            "/gdrive\n"
          ]
        }
      ]
    },
    {
      "cell_type": "code",
      "execution_count": null,
      "metadata": {
        "colab": {
          "base_uri": "https://localhost:8080/"
        },
        "id": "lxO4GIUtCaBc",
        "outputId": "861b090a-48e5-4478-fc5a-92b07e901043"
      },
      "outputs": [
        {
          "output_type": "stream",
          "name": "stdout",
          "text": [
            "\n"
          ]
        }
      ],
      "source": [
        "import numpy as np \n",
        "import cv2 \n",
        "import os\n",
        "import re\n",
        "\n",
        "# -------------------- Utility function ------------------------\n",
        "def normalize_label(str_):\n",
        "    str_ = str_.replace(\" \", \"\")\n",
        "    str_ = str_.translate(str_.maketrans(\"\",\"\", \"()\"))\n",
        "    str_ = str_.split(\"_\")\n",
        "    return ''.join(str_[:2])\n",
        "\n",
        "def normalize_desc(folder, sub_folder):\n",
        "    text = folder + \" - \" + sub_folder \n",
        "    text = re.sub(r'\\d+', '', text)\n",
        "    text = text.replace(\".\", \"\")\n",
        "    text = text.strip()\n",
        "    return text\n",
        "\n",
        "def print_progress(val, val_len, folder, sub_folder, filename, bar_size=10):\n",
        "    progr = \"#\"*round((val)*bar_size/val_len) + \" \"*round((val_len - (val))*bar_size/val_len)\n",
        "    if val == 0:\n",
        "        print(\"\", end = \"\\n\")\n",
        "    else:\n",
        "        print(\"[%s] folder : %s/%s/ ----> file : %s\" % (progr, folder, sub_folder, filename), end=\"\\r\")\n",
        "        \n",
        "\n",
        "# -------------------- Load Dataset ------------------------\n",
        " \n",
        "dataset_dir = '/gdrive'\n",
        "\n",
        "imgs = [] #list image matrix \n",
        "labels = []\n",
        "descs = []\n",
        "for folder in os.listdir(dataset_dir):\n",
        "    for sub_folder in os.listdir(os.path.join(dataset_dir, folder)):\n",
        "        sub_folder_files = os.listdir(os.path.join(dataset_dir, folder, sub_folder))\n",
        "        len_sub_folder = len(sub_folder_files) - 1\n",
        "        for i, filename in enumerate(sub_folder_files):\n",
        "            img = cv2.imread(os.path.join(dataset_dir, folder, sub_folder, filename))\n",
        "            \n",
        "            gray = cv2.cvtColor(img, cv2.COLOR_BGR2GRAY)\n",
        "            \n",
        "            h, w = gray.shape\n",
        "            ymin, ymax, xmin, xmax = h//3, h*2//3, w//3, w*2//3\n",
        "            crop = gray[ymin:ymax, xmin:xmax]\n",
        "            \n",
        "            resize = cv2.resize(crop, (0,0), fx=0.5, fy=0.5)\n",
        "            \n",
        "            imgs.append(resize)\n",
        "            labels.append(normalize_label(os.path.splitext(filename)[0]))\n",
        "            descs.append(normalize_desc(folder, sub_folder))\n",
        "            \n",
        "            print_progress(i, len_sub_folder, folder, sub_folder, filename)"
      ]
    },
    {
      "cell_type": "markdown",
      "metadata": {
        "id": "IGruSE15WX1J"
      },
      "source": [
        "**2) L'ensemble de données d'images de feuilles sera stocké dans la liste 'imgs' et les noms de feuilles seront stockés dans la liste 'labels'. Nous pouvons prévisualiser l'une des images de la manière suivante**"
      ]
    },
    {
      "cell_type": "code",
      "execution_count": null,
      "metadata": {
        "colab": {
          "base_uri": "https://localhost:8080/",
          "height": 34
        },
        "id": "kPOvWvWHR2Yh",
        "outputId": "86c3bf42-303c-4355-fd3d-91d364c72721"
      },
      "outputs": [
        {
          "output_type": "display_data",
          "data": {
            "text/plain": [
              "<PIL.Image.Image image mode=L size=8x8 at 0x7F2774AFF650>"
            ],
            "image/png": "[encoded data removed]"
          },
          "metadata": {}
        }
      ],
      "source": [
        "from google.colab.patches import cv2_imshow\n",
        "cv2_imshow(imgs[0])"
      ]
    },
    {
      "cell_type": "markdown",
      "metadata": {
        "id": "WlBgWxQ_WmTR"
      },
      "source": [
        "**3) Ensuite, nous pouvons trouver la matrice GLCM et la métrique de texture globale de l'image de la feuille en utilisant les fonctions greycomatrix() et greycoprops() dans la bibliothèque Scikit-Image.**"
      ]
    },
    {
      "cell_type": "code",
      "execution_count": null,
      "metadata": {
        "id": "5FTp6wFpGrSs"
      },
      "outputs": [],
      "source": [
        "from skimage.feature import greycomatrix, greycoprops\n",
        "\n",
        "# ----------------- calculate greycomatrix() & greycoprops() for angle 0, 45, 90, 135 ----------------------------------\n",
        "def calc_glcm_all_agls(img, label, props, dists=[5], agls=[0, np.pi/4, np.pi/2, 3*np.pi/4], lvl=256, sym=True, norm=True):\n",
        "    \n",
        "    glcm = greycomatrix(img, \n",
        "                        distances=dists, \n",
        "                        angles=agls, \n",
        "                        levels=lvl,\n",
        "                        symmetric=sym, \n",
        "                        normed=norm)\n",
        "    feature = []\n",
        "    glcm_props = [propery for name in props for propery in greycoprops(glcm, name)[0]]\n",
        "    for item in glcm_props:\n",
        "            feature.append(item)\n",
        "    feature.append(label) \n",
        "    \n",
        "    return feature\n",
        "\n",
        "\n",
        "# ----------------- call calc_glcm_all_agls() for all properties ----------------------------------\n",
        "properties = ['dissimilarity', 'correlation', 'homogeneity', 'contrast', 'ASM', 'energy']\n",
        "\n",
        "glcm_all_agls = []\n",
        "for img, label in zip(imgs, labels): \n",
        "    glcm_all_agls.append(\n",
        "            calc_glcm_all_agls(img, \n",
        "                                label, \n",
        "                                props=properties)\n",
        "                            )\n",
        " \n",
        "columns = []\n",
        "angles = ['0', '45', '90','135']\n",
        "for name in properties :\n",
        "    for ang in angles:\n",
        "        columns.append(name + \"_\" + ang)\n",
        "        \n",
        "columns.append(\"label\")"
      ]
    },
    {
      "cell_type": "markdown",
      "metadata": {
        "id": "VFYtEXJGW2B-"
      },
      "source": [
        "**4) Ensuite, nous changeons le format de données glcm_features de liste en Dataframe à l'aide de la bibliothèque pandas**"
      ]
    },
    {
      "cell_type": "code",
      "execution_count": null,
      "metadata": {
        "colab": {
          "base_uri": "https://localhost:8080/"
        },
        "id": "g70Kv8FTGW1l",
        "outputId": "356905e7-1a4f-4af6-81cc-999143a92a52"
      },
      "outputs": [
        {
          "output_type": "execute_result",
          "data": {
            "text/plain": [
              "2.166666666666667"
            ]
          },
          "metadata": {},
          "execution_count": 132
        }
      ],
      "source": [
        "import pandas as pd \n",
        "\n",
        "# Create the pandas DataFrame for GLCM features data\n",
        "glcm_df = pd.DataFrame(glcm_all_agls, \n",
        "                      columns = columns)\n",
        "glcm_df['label'] = glcm_df['label']\n",
        "sorted_df = glcm_df.sort_values(by=['label'], ascending=True)\n",
        "df=sorted_df.reset_index(drop=True)\n",
        "#df.columns\n",
        "df[\"dissimilarity_0\"][0]"
      ]
    },
    {
      "cell_type": "markdown",
      "source": [
        ""
      ],
      "metadata": {
        "id": "Bb0n-z8qn2jE"
      }
    },
    {
      "cell_type": "code",
      "source": [
        "\n",
        "%cd ..\n",
        "%cd \"/home\""
      ],
      "metadata": {
        "colab": {
          "base_uri": "https://localhost:8080/"
        },
        "id": "T0hUgruNn3Op",
        "outputId": "6c6e249b-4f06-4348-9a58-7b48aa1b7fb2"
      },
      "execution_count": null,
      "outputs": [
        {
          "output_type": "stream",
          "name": "stdout",
          "text": [
            "/\n",
            "/home\n"
          ]
        }
      ]
    },
    {
      "cell_type": "code",
      "source": [
        "#!pwd\n"
      ],
      "metadata": {
        "id": "CVUZWYF8oaD1"
      },
      "execution_count": null,
      "outputs": []
    },
    {
      "cell_type": "code",
      "source": [
        "width, height = image.size\n",
        "if height%50==0:\n",
        "    i_max=height//50\n",
        "else:\n",
        "    i_max=height//50+1\n",
        "\n",
        "if width%50==0:\n",
        "    j_max=width//50\n",
        "else:\n",
        "    j_max=width//50+1\n",
        "for indexe in range(len(df.columns)):\n",
        "    result = Image.new('RGB', (j_max*50,i_max*50))\n",
        "    for j in range(j_max):\n",
        "        for i in range(i_max):\n",
        "            text=str(df[df.columns[indexe]][(i_max*j)+i])\n",
        "            im=ecrire(text)\n",
        "            result.paste(im,(j*50,i*50))\n",
        "    nom=df.columns[indexe]+'.png'\n",
        "    result.save(nom)\n",
        "\n",
        "\n"
      ],
      "metadata": {
        "id": "OWxV0oIHS0X3"
      },
      "execution_count": null,
      "outputs": []
    },
    {
      "cell_type": "code",
      "source": [
        "df"
      ],
      "metadata": {
        "colab": {
          "base_uri": "https://localhost:8080/",
          "height": 488
        },
        "id": "Mqp2KCAbkkRi",
        "outputId": "606e70d5-c4c1-4bd5-cff6-2903a2d7b9aa"
      },
      "execution_count": null,
      "outputs": [
        {
          "output_type": "execute_result",
          "data": {
            "text/plain": [
              "     dissimilarity_0  dissimilarity_45  dissimilarity_90  dissimilarity_135  \\\n",
              "0           2.166667            3.1250          2.416667             1.3750   \n",
              "1           2.541667            4.2500          3.250000             1.7500   \n",
              "2           1.750000            3.1250          3.041667             1.8125   \n",
              "3           2.583333            3.3750          2.458333             1.5625   \n",
              "4           1.916667            3.6875          2.916667             1.6875   \n",
              "..               ...               ...               ...                ...   \n",
              "145         0.000000            0.0000          0.000000             0.0000   \n",
              "146         0.000000            0.0000          0.000000             0.0000   \n",
              "147         0.000000            0.0000          0.000000             0.0000   \n",
              "148         0.000000            0.0000          0.000000             0.0000   \n",
              "149         0.000000            0.0000          0.000000             0.0000   \n",
              "\n",
              "     correlation_0  correlation_45  correlation_90  correlation_135  \\\n",
              "0         0.042945       -0.457021        0.046429         0.387826   \n",
              "1         0.130176       -0.557692       -0.253968         0.136364   \n",
              "2         0.404878       -0.167477       -0.291720        -0.019269   \n",
              "3         0.012161       -0.450187       -0.060413         0.397113   \n",
              "4         0.383199       -0.471077       -0.359773         0.105987   \n",
              "..             ...             ...             ...              ...   \n",
              "145       1.000000        1.000000        1.000000         1.000000   \n",
              "146       1.000000        1.000000        1.000000         1.000000   \n",
              "147       1.000000        1.000000        1.000000         1.000000   \n",
              "148       1.000000        1.000000        1.000000         1.000000   \n",
              "149       1.000000        1.000000        1.000000         1.000000   \n",
              "\n",
              "     homogeneity_0  homogeneity_45  ...  contrast_135     ASM_0    ASM_45  \\\n",
              "0         0.307240        0.236693  ...        2.7500  0.048611  0.042969   \n",
              "1         0.240851        0.087443  ...        4.7500  0.035590  0.042969   \n",
              "2         0.427338        0.182975  ...        5.0625  0.035590  0.042969   \n",
              "3         0.300772        0.171221  ...        4.8125  0.035590  0.056641   \n",
              "4         0.356028        0.161642  ...        3.9375  0.037326  0.048828   \n",
              "..             ...             ...  ...           ...       ...       ...   \n",
              "145       1.000000        1.000000  ...        0.0000  1.000000  1.000000   \n",
              "146       1.000000        1.000000  ...        0.0000  1.000000  1.000000   \n",
              "147       1.000000        1.000000  ...        0.0000  1.000000  1.000000   \n",
              "148       1.000000        1.000000  ...        0.0000  1.000000  1.000000   \n",
              "149       1.000000        1.000000  ...        0.0000  1.000000  1.000000   \n",
              "\n",
              "       ASM_90   ASM_135  energy_0  energy_45  energy_90  energy_135  label  \n",
              "0    0.036458  0.058594  0.220479   0.207289   0.190941    0.242061    a.a  \n",
              "1    0.026042  0.044922  0.188654   0.207289   0.161374    0.211948    a.b  \n",
              "2    0.032118  0.060547  0.188654   0.207289   0.179215    0.246063    a.c  \n",
              "3    0.051215  0.072266  0.188654   0.237993   0.226308    0.268823    a.d  \n",
              "4    0.031250  0.058594  0.193200   0.220971   0.176777    0.242061    a.e  \n",
              "..        ...       ...       ...        ...        ...         ...    ...  \n",
              "145  1.000000  1.000000  1.000000   1.000000   1.000000    1.000000    o.f  \n",
              "146  1.000000  1.000000  1.000000   1.000000   1.000000    1.000000    o.g  \n",
              "147  1.000000  1.000000  1.000000   1.000000   1.000000    1.000000    o.h  \n",
              "148  1.000000  1.000000  1.000000   1.000000   1.000000    1.000000    o.i  \n",
              "149  1.000000  1.000000  1.000000   1.000000   1.000000    1.000000    o.j  \n",
              "\n",
              "[150 rows x 25 columns]"
            ],
            "text/html": [
              "\n",
              "  <div id=\"df-f1f8b8ae-8e41-491d-b46f-0b0ba6a7daf2\">\n",
              "    <div class=\"colab-df-container\">\n",
              "      <div>\n",
              "<style scoped>\n",
              "    .dataframe tbody tr th:only-of-type {\n",
              "        vertical-align: middle;\n",
              "    }\n",
              "\n",
              "    .dataframe tbody tr th {\n",
              "        vertical-align: top;\n",
              "    }\n",
              "\n",
              "    .dataframe thead th {\n",
              "        text-align: right;\n",
              "    }\n",
              "</style>\n",
              "<table border=\"1\" class=\"dataframe\">\n",
              "  <thead>\n",
              "    <tr style=\"text-align: right;\">\n",
              "      <th></th>\n",
              "      <th>dissimilarity_0</th>\n",
              "      <th>dissimilarity_45</th>\n",
              "      <th>dissimilarity_90</th>\n",
              "      <th>dissimilarity_135</th>\n",
              "      <th>correlation_0</th>\n",
              "      <th>correlation_45</th>\n",
              "      <th>correlation_90</th>\n",
              "      <th>correlation_135</th>\n",
              "      <th>homogeneity_0</th>\n",
              "      <th>homogeneity_45</th>\n",
              "      <th>...</th>\n",
              "      <th>contrast_135</th>\n",
              "      <th>ASM_0</th>\n",
              "      <th>ASM_45</th>\n",
              "      <th>ASM_90</th>\n",
              "      <th>ASM_135</th>\n",
              "      <th>energy_0</th>\n",
              "      <th>energy_45</th>\n",
              "      <th>energy_90</th>\n",
              "      <th>energy_135</th>\n",
              "      <th>label</th>\n",
              "    </tr>\n",
              "  </thead>\n",
              "  <tbody>\n",
              "    <tr>\n",
              "      <th>0</th>\n",
              "      <td>2.166667</td>\n",
              "      <td>3.1250</td>\n",
              "      <td>2.416667</td>\n",
              "      <td>1.3750</td>\n",
              "      <td>0.042945</td>\n",
              "      <td>-0.457021</td>\n",
              "      <td>0.046429</td>\n",
              "      <td>0.387826</td>\n",
              "      <td>0.307240</td>\n",
              "      <td>0.236693</td>\n",
              "      <td>...</td>\n",
              "      <td>2.7500</td>\n",
              "      <td>0.048611</td>\n",
              "      <td>0.042969</td>\n",
              "      <td>0.036458</td>\n",
              "      <td>0.058594</td>\n",
              "      <td>0.220479</td>\n",
              "      <td>0.207289</td>\n",
              "      <td>0.190941</td>\n",
              "      <td>0.242061</td>\n",
              "      <td>a.a</td>\n",
              "    </tr>\n",
              "    <tr>\n",
              "      <th>1</th>\n",
              "      <td>2.541667</td>\n",
              "      <td>4.2500</td>\n",
              "      <td>3.250000</td>\n",
              "      <td>1.7500</td>\n",
              "      <td>0.130176</td>\n",
              "      <td>-0.557692</td>\n",
              "      <td>-0.253968</td>\n",
              "      <td>0.136364</td>\n",
              "      <td>0.240851</td>\n",
              "      <td>0.087443</td>\n",
              "      <td>...</td>\n",
              "      <td>4.7500</td>\n",
              "      <td>0.035590</td>\n",
              "      <td>0.042969</td>\n",
              "      <td>0.026042</td>\n",
              "      <td>0.044922</td>\n",
              "      <td>0.188654</td>\n",
              "      <td>0.207289</td>\n",
              "      <td>0.161374</td>\n",
              "      <td>0.211948</td>\n",
              "      <td>a.b</td>\n",
              "    </tr>\n",
              "    <tr>\n",
              "      <th>2</th>\n",
              "      <td>1.750000</td>\n",
              "      <td>3.1250</td>\n",
              "      <td>3.041667</td>\n",
              "      <td>1.8125</td>\n",
              "      <td>0.404878</td>\n",
              "      <td>-0.167477</td>\n",
              "      <td>-0.291720</td>\n",
              "      <td>-0.019269</td>\n",
              "      <td>0.427338</td>\n",
              "      <td>0.182975</td>\n",
              "      <td>...</td>\n",
              "      <td>5.0625</td>\n",
              "      <td>0.035590</td>\n",
              "      <td>0.042969</td>\n",
              "      <td>0.032118</td>\n",
              "      <td>0.060547</td>\n",
              "      <td>0.188654</td>\n",
              "      <td>0.207289</td>\n",
              "      <td>0.179215</td>\n",
              "      <td>0.246063</td>\n",
              "      <td>a.c</td>\n",
              "    </tr>\n",
              "    <tr>\n",
              "      <th>3</th>\n",
              "      <td>2.583333</td>\n",
              "      <td>3.3750</td>\n",
              "      <td>2.458333</td>\n",
              "      <td>1.5625</td>\n",
              "      <td>0.012161</td>\n",
              "      <td>-0.450187</td>\n",
              "      <td>-0.060413</td>\n",
              "      <td>0.397113</td>\n",
              "      <td>0.300772</td>\n",
              "      <td>0.171221</td>\n",
              "      <td>...</td>\n",
              "      <td>4.8125</td>\n",
              "      <td>0.035590</td>\n",
              "      <td>0.056641</td>\n",
              "      <td>0.051215</td>\n",
              "      <td>0.072266</td>\n",
              "      <td>0.188654</td>\n",
              "      <td>0.237993</td>\n",
              "      <td>0.226308</td>\n",
              "      <td>0.268823</td>\n",
              "      <td>a.d</td>\n",
              "    </tr>\n",
              "    <tr>\n",
              "      <th>4</th>\n",
              "      <td>1.916667</td>\n",
              "      <td>3.6875</td>\n",
              "      <td>2.916667</td>\n",
              "      <td>1.6875</td>\n",
              "      <td>0.383199</td>\n",
              "      <td>-0.471077</td>\n",
              "      <td>-0.359773</td>\n",
              "      <td>0.105987</td>\n",
              "      <td>0.356028</td>\n",
              "      <td>0.161642</td>\n",
              "      <td>...</td>\n",
              "      <td>3.9375</td>\n",
              "      <td>0.037326</td>\n",
              "      <td>0.048828</td>\n",
              "      <td>0.031250</td>\n",
              "      <td>0.058594</td>\n",
              "      <td>0.193200</td>\n",
              "      <td>0.220971</td>\n",
              "      <td>0.176777</td>\n",
              "      <td>0.242061</td>\n",
              "      <td>a.e</td>\n",
              "    </tr>\n",
              "    <tr>\n",
              "      <th>...</th>\n",
              "      <td>...</td>\n",
              "      <td>...</td>\n",
              "      <td>...</td>\n",
              "      <td>...</td>\n",
              "      <td>...</td>\n",
              "      <td>...</td>\n",
              "      <td>...</td>\n",
              "      <td>...</td>\n",
              "      <td>...</td>\n",
              "      <td>...</td>\n",
              "      <td>...</td>\n",
              "      <td>...</td>\n",
              "      <td>...</td>\n",
              "      <td>...</td>\n",
              "      <td>...</td>\n",
              "      <td>...</td>\n",
              "      <td>...</td>\n",
              "      <td>...</td>\n",
              "      <td>...</td>\n",
              "      <td>...</td>\n",
              "      <td>...</td>\n",
              "    </tr>\n",
              "    <tr>\n",
              "      <th>145</th>\n",
              "      <td>0.000000</td>\n",
              "      <td>0.0000</td>\n",
              "      <td>0.000000</td>\n",
              "      <td>0.0000</td>\n",
              "      <td>1.000000</td>\n",
              "      <td>1.000000</td>\n",
              "      <td>1.000000</td>\n",
              "      <td>1.000000</td>\n",
              "      <td>1.000000</td>\n",
              "      <td>1.000000</td>\n",
              "      <td>...</td>\n",
              "      <td>0.0000</td>\n",
              "      <td>1.000000</td>\n",
              "      <td>1.000000</td>\n",
              "      <td>1.000000</td>\n",
              "      <td>1.000000</td>\n",
              "      <td>1.000000</td>\n",
              "      <td>1.000000</td>\n",
              "      <td>1.000000</td>\n",
              "      <td>1.000000</td>\n",
              "      <td>o.f</td>\n",
              "    </tr>\n",
              "    <tr>\n",
              "      <th>146</th>\n",
              "      <td>0.000000</td>\n",
              "      <td>0.0000</td>\n",
              "      <td>0.000000</td>\n",
              "      <td>0.0000</td>\n",
              "      <td>1.000000</td>\n",
              "      <td>1.000000</td>\n",
              "      <td>1.000000</td>\n",
              "      <td>1.000000</td>\n",
              "      <td>1.000000</td>\n",
              "      <td>1.000000</td>\n",
              "      <td>...</td>\n",
              "      <td>0.0000</td>\n",
              "      <td>1.000000</td>\n",
              "      <td>1.000000</td>\n",
              "      <td>1.000000</td>\n",
              "      <td>1.000000</td>\n",
              "      <td>1.000000</td>\n",
              "      <td>1.000000</td>\n",
              "      <td>1.000000</td>\n",
              "      <td>1.000000</td>\n",
              "      <td>o.g</td>\n",
              "    </tr>\n",
              "    <tr>\n",
              "      <th>147</th>\n",
              "      <td>0.000000</td>\n",
              "      <td>0.0000</td>\n",
              "      <td>0.000000</td>\n",
              "      <td>0.0000</td>\n",
              "      <td>1.000000</td>\n",
              "      <td>1.000000</td>\n",
              "      <td>1.000000</td>\n",
              "      <td>1.000000</td>\n",
              "      <td>1.000000</td>\n",
              "      <td>1.000000</td>\n",
              "      <td>...</td>\n",
              "      <td>0.0000</td>\n",
              "      <td>1.000000</td>\n",
              "      <td>1.000000</td>\n",
              "      <td>1.000000</td>\n",
              "      <td>1.000000</td>\n",
              "      <td>1.000000</td>\n",
              "      <td>1.000000</td>\n",
              "      <td>1.000000</td>\n",
              "      <td>1.000000</td>\n",
              "      <td>o.h</td>\n",
              "    </tr>\n",
              "    <tr>\n",
              "      <th>148</th>\n",
              "      <td>0.000000</td>\n",
              "      <td>0.0000</td>\n",
              "      <td>0.000000</td>\n",
              "      <td>0.0000</td>\n",
              "      <td>1.000000</td>\n",
              "      <td>1.000000</td>\n",
              "      <td>1.000000</td>\n",
              "      <td>1.000000</td>\n",
              "      <td>1.000000</td>\n",
              "      <td>1.000000</td>\n",
              "      <td>...</td>\n",
              "      <td>0.0000</td>\n",
              "      <td>1.000000</td>\n",
              "      <td>1.000000</td>\n",
              "      <td>1.000000</td>\n",
              "      <td>1.000000</td>\n",
              "      <td>1.000000</td>\n",
              "      <td>1.000000</td>\n",
              "      <td>1.000000</td>\n",
              "      <td>1.000000</td>\n",
              "      <td>o.i</td>\n",
              "    </tr>\n",
              "    <tr>\n",
              "      <th>149</th>\n",
              "      <td>0.000000</td>\n",
              "      <td>0.0000</td>\n",
              "      <td>0.000000</td>\n",
              "      <td>0.0000</td>\n",
              "      <td>1.000000</td>\n",
              "      <td>1.000000</td>\n",
              "      <td>1.000000</td>\n",
              "      <td>1.000000</td>\n",
              "      <td>1.000000</td>\n",
              "      <td>1.000000</td>\n",
              "      <td>...</td>\n",
              "      <td>0.0000</td>\n",
              "      <td>1.000000</td>\n",
              "      <td>1.000000</td>\n",
              "      <td>1.000000</td>\n",
              "      <td>1.000000</td>\n",
              "      <td>1.000000</td>\n",
              "      <td>1.000000</td>\n",
              "      <td>1.000000</td>\n",
              "      <td>1.000000</td>\n",
              "      <td>o.j</td>\n",
              "    </tr>\n",
              "  </tbody>\n",
              "</table>\n",
              "<p>150 rows × 25 columns</p>\n",
              "</div>\n",
              "      <button class=\"colab-df-convert\" onclick=\"convertToInteractive('df-f1f8b8ae-8e41-491d-b46f-0b0ba6a7daf2')\"\n",
              "              title=\"Convert this dataframe to an interactive table.\"\n",
              "              style=\"display:none;\">\n",
              "        \n",
              "  <svg xmlns=\"http://www.w3.org/2000/svg\" height=\"24px\"viewBox=\"0 0 24 24\"\n",
              "       width=\"24px\">\n",
              "    <path d=\"M0 0h24v24H0V0z\" fill=\"none\"/>\n",
              "    <path d=\"M18.56 5.44l.94 2.06.94-2.06 2.06-.94-2.06-.94-.94-2.06-.94 2.06-2.06.94zm-11 1L8.5 8.5l.94-2.06 2.06-.94-2.06-.94L8.5 2.5l-.94 2.06-2.06.94zm10 10l.94 2.06.94-2.06 2.06-.94-2.06-.94-.94-2.06-.94 2.06-2.06.94z\"/><path d=\"M17.41 7.96l-1.37-1.37c-.4-.4-.92-.59-1.43-.59-.52 0-1.04.2-1.43.59L10.3 9.45l-7.72 7.72c-.78.78-.78 2.05 0 2.83L4 21.41c.39.39.9.59 1.41.59.51 0 1.02-.2 1.41-.59l7.78-7.78 2.81-2.81c.8-.78.8-2.07 0-2.86zM5.41 20L4 18.59l7.72-7.72 1.47 1.35L5.41 20z\"/>\n",
              "  </svg>\n",
              "      </button>\n",
              "      \n",
              "  <style>\n",
              "    .colab-df-container {\n",
              "      display:flex;\n",
              "      flex-wrap:wrap;\n",
              "      gap: 12px;\n",
              "    }\n",
              "\n",
              "    .colab-df-convert {\n",
              "      background-color: #E8F0FE;\n",
              "      border: none;\n",
              "      border-radius: 50%;\n",
              "      cursor: pointer;\n",
              "      display: none;\n",
              "      fill: #1967D2;\n",
              "      height: 32px;\n",
              "      padding: 0 0 0 0;\n",
              "      width: 32px;\n",
              "    }\n",
              "\n",
              "    .colab-df-convert:hover {\n",
              "      background-color: #E2EBFA;\n",
              "      box-shadow: 0px 1px 2px rgba(60, 64, 67, 0.3), 0px 1px 3px 1px rgba(60, 64, 67, 0.15);\n",
              "      fill: #174EA6;\n",
              "    }\n",
              "\n",
              "    [theme=dark] .colab-df-convert {\n",
              "      background-color: #3B4455;\n",
              "      fill: #D2E3FC;\n",
              "    }\n",
              "\n",
              "    [theme=dark] .colab-df-convert:hover {\n",
              "      background-color: #434B5C;\n",
              "      box-shadow: 0px 1px 3px 1px rgba(0, 0, 0, 0.15);\n",
              "      filter: drop-shadow(0px 1px 2px rgba(0, 0, 0, 0.3));\n",
              "      fill: #FFFFFF;\n",
              "    }\n",
              "  </style>\n",
              "\n",
              "      <script>\n",
              "        const buttonEl =\n",
              "          document.querySelector('#df-f1f8b8ae-8e41-491d-b46f-0b0ba6a7daf2 button.colab-df-convert');\n",
              "        buttonEl.style.display =\n",
              "          google.colab.kernel.accessAllowed ? 'block' : 'none';\n",
              "\n",
              "        async function convertToInteractive(key) {\n",
              "          const element = document.querySelector('#df-f1f8b8ae-8e41-491d-b46f-0b0ba6a7daf2');\n",
              "          const dataTable =\n",
              "            await google.colab.kernel.invokeFunction('convertToInteractive',\n",
              "                                                     [key], {});\n",
              "          if (!dataTable) return;\n",
              "\n",
              "          const docLinkHtml = 'Like what you see? Visit the ' +\n",
              "            '<a target=\"_blank\" href=https://colab.research.google.com/notebooks/data_table.ipynb>data table notebook</a>'\n",
              "            + ' to learn more about interactive tables.';\n",
              "          element.innerHTML = '';\n",
              "          dataTable['output_type'] = 'display_data';\n",
              "          await google.colab.output.renderOutput(dataTable, element);\n",
              "          const docLink = document.createElement('div');\n",
              "          docLink.innerHTML = docLinkHtml;\n",
              "          element.appendChild(docLink);\n",
              "        }\n",
              "      </script>\n",
              "    </div>\n",
              "  </div>\n",
              "  "
            ]
          },
          "metadata": {},
          "execution_count": 136
        }
      ]
    },
    {
      "cell_type": "code",
      "source": [
        ""
      ],
      "metadata": {
        "id": "Vp-t3TXE-G-6"
      },
      "execution_count": null,
      "outputs": []
    }
  ],
  "metadata": {
    "colab": {
      "collapsed_sections": [],
      "name": "Copy of Feature Extraction : Gray Level Co-occurrence Matrix (GLCM) with Python",
      "provenance": [],
      "include_colab_link": true
    },
    "kernelspec": {
      "display_name": "Python 3",
      "name": "python3"
    }
  },
  "nbformat": 4,
  "nbformat_minor": 0
}